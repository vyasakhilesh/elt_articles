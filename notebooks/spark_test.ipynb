{
 "cells": [
  {
   "cell_type": "code",
   "execution_count": 1,
   "id": "5c80fbd8-84af-4ee7-8593-1783d435585e",
   "metadata": {},
   "outputs": [],
   "source": [
    "from pyspark.sql import SparkSession\n",
    "from delta.tables import *\n",
    "from delta import *"
   ]
  },
  {
   "cell_type": "code",
   "execution_count": 2,
   "id": "4eb9fb2e-b8f4-435f-8c13-6a2ed2a0ca9b",
   "metadata": {},
   "outputs": [
    {
     "name": "stderr",
     "output_type": "stream",
     "text": [
      "25/02/06 15:08:29 WARN Utils: Your hostname, NB-WXET1590 resolves to a loopback address: 127.0.1.1; using 172.30.88.241 instead (on interface eth0)\n",
      "25/02/06 15:08:29 WARN Utils: Set SPARK_LOCAL_IP if you need to bind to another address\n"
     ]
    },
    {
     "name": "stdout",
     "output_type": "stream",
     "text": [
      ":: loading settings :: url = jar:file:/home/avyas/miniconda3/envs/testairbyte/lib/python3.10/site-packages/pyspark/jars/ivy-2.5.1.jar!/org/apache/ivy/core/settings/ivysettings.xml\n"
     ]
    },
    {
     "name": "stderr",
     "output_type": "stream",
     "text": [
      "Ivy Default Cache set to: /home/avyas/.ivy2/cache\n",
      "The jars for the packages stored in: /home/avyas/.ivy2/jars\n",
      "io.delta#delta-spark_2.12 added as a dependency\n",
      ":: resolving dependencies :: org.apache.spark#spark-submit-parent-62455a93-ab8f-42f5-aba6-5602e254fb69;1.0\n",
      "\tconfs: [default]\n",
      "\tfound io.delta#delta-spark_2.12;3.3.0 in central\n",
      "\tfound io.delta#delta-storage;3.3.0 in central\n",
      "\tfound org.antlr#antlr4-runtime;4.9.3 in central\n",
      ":: resolution report :: resolve 540ms :: artifacts dl 29ms\n",
      "\t:: modules in use:\n",
      "\tio.delta#delta-spark_2.12;3.3.0 from central in [default]\n",
      "\tio.delta#delta-storage;3.3.0 from central in [default]\n",
      "\torg.antlr#antlr4-runtime;4.9.3 from central in [default]\n",
      "\t---------------------------------------------------------------------\n",
      "\t|                  |            modules            ||   artifacts   |\n",
      "\t|       conf       | number| search|dwnlded|evicted|| number|dwnlded|\n",
      "\t---------------------------------------------------------------------\n",
      "\t|      default     |   3   |   0   |   0   |   0   ||   3   |   0   |\n",
      "\t---------------------------------------------------------------------\n",
      ":: retrieving :: org.apache.spark#spark-submit-parent-62455a93-ab8f-42f5-aba6-5602e254fb69\n",
      "\tconfs: [default]\n",
      "\t0 artifacts copied, 3 already retrieved (0kB/24ms)\n",
      "25/02/06 15:08:32 WARN NativeCodeLoader: Unable to load native-hadoop library for your platform... using builtin-java classes where applicable\n",
      "Setting default log level to \"WARN\".\n",
      "To adjust logging level use sc.setLogLevel(newLevel). For SparkR, use setLogLevel(newLevel).\n",
      "25/02/06 15:08:34 WARN Utils: Service 'SparkUI' could not bind on port 4040. Attempting port 4041.\n"
     ]
    }
   ],
   "source": [
    " spark = SparkSession.builder \\\n",
    "        .appName(\"ProcessJSONToDelta\") \\\n",
    "        .config(\"spark.jars.packages\", \"io.delta:delta-spark_2.12:3.3.0\") \\\n",
    "        .config(\"spark.sql.extensions\", \"io.delta.sql.DeltaSparkSessionExtension\") \\\n",
    "        .config(\"spark.sql.catalog.spark_catalog\", \"org.apache.spark.sql.delta.catalog.DeltaCatalog\") \\\n",
    "        .getOrCreate()"
   ]
  },
  {
   "cell_type": "code",
   "execution_count": 3,
   "id": "cc3573a3-9167-4667-951d-1b3f4527f337",
   "metadata": {},
   "outputs": [],
   "source": [
    "delta_table = DeltaTable.forPath(spark, '../data/delta_table/core_data/')"
   ]
  },
  {
   "cell_type": "code",
   "execution_count": 4,
   "id": "991b29cc-e60b-4f1a-900d-6ca98ce6a09a",
   "metadata": {},
   "outputs": [
    {
     "data": {
      "text/plain": [
       "StructType([StructField('abstract', StringType(), True), StructField('authors', ArrayType(StringType(), True), True), StructField('contributors', ArrayType(StringType(), True), True), StructField('coreId', StringType(), True), StructField('datePublished', StringType(), True), StructField('doi', StringType(), True), StructField('downloadUrl', StringType(), True), StructField('enrichments', StructType([StructField('documentType', StructType([StructField('type', DoubleType(), True)]), True), StructField('references', ArrayType(StructType([StructField('authors', ArrayType(StringType(), True), True), StructField('cites', StringType(), True), StructField('date', StringType(), True), StructField('doi', StringType(), True), StructField('id', LongType(), True), StructField('raw', StringType(), True), StructField('title', StringType(), True)]), True), True)]), True), StructField('fullText', StringType(), True), StructField('fullTextIdentifier', StringType(), True), StructField('identifiers', ArrayType(StringType(), True), True), StructField('journals', ArrayType(StructType([StructField('identifiers', ArrayType(StringType(), True), True), StructField('title', StringType(), True)]), True), True), StructField('language', StructType([StructField('code', StringType(), True), StructField('id', LongType(), True), StructField('name', StringType(), True)]), True), StructField('oai', StringType(), True), StructField('pdfHashValue', StringType(), True), StructField('publisher', StringType(), True), StructField('rawRecordXml', StringType(), True), StructField('relations', ArrayType(StringType(), True), True), StructField('subject', ArrayType(StringType(), True), True), StructField('title', StringType(), True), StructField('topics', ArrayType(StringType(), True), True), StructField('year', LongType(), True)])"
      ]
     },
     "execution_count": 4,
     "metadata": {},
     "output_type": "execute_result"
    }
   ],
   "source": [
    "schema = delta_table.toDF().schema\n",
    "schema"
   ]
  },
  {
   "cell_type": "code",
   "execution_count": null,
   "id": "ee6782ec-42be-492e-b938-36e66dd42d0a",
   "metadata": {},
   "outputs": [],
   "source": [
    "metadata = delta_table.history()\n",
    "metadata.show()"
   ]
  },
  {
   "cell_type": "code",
   "execution_count": 5,
   "id": "332cc80a-48e2-42ea-9882-5192c1e63a95",
   "metadata": {},
   "outputs": [
    {
     "name": "stderr",
     "output_type": "stream",
     "text": [
      "25/02/06 15:08:53 WARN SparkStringUtils: Truncated the string representation of a plan since it was too large. This behavior can be adjusted by setting 'spark.sql.debug.maxToStringFields'.\n",
      "[Stage 9:============================================>              (3 + 1) / 4]"
     ]
    },
    {
     "name": "stdout",
     "output_type": "stream",
     "text": [
      "+--------+--------------------+------------+------+-------------+--------------------+--------------------+--------------------+--------------------+--------------------+--------------------+--------+----------------+--------------------+--------------------+-----------------+--------------------+--------------------+--------------------+--------------------+--------------------+----+\n",
      "|abstract|             authors|contributors|coreId|datePublished|                 doi|         downloadUrl|         enrichments|            fullText|  fullTextIdentifier|         identifiers|journals|        language|                 oai|        pdfHashValue|        publisher|        rawRecordXml|           relations|             subject|               title|              topics|year|\n",
      "+--------+--------------------+------------+------+-------------+--------------------+--------------------+--------------------+--------------------+--------------------+--------------------+--------+----------------+--------------------+--------------------+-----------------+--------------------+--------------------+--------------------+--------------------+--------------------+----+\n",
      "|    NULL|[Luczak, Malwina ...|          []|207776|      2001-01|10.1002/1098-2418...|                    |        {{NULL}, []}|                NULL|                NULL|[oai:eprints.lse....|    NULL|            NULL|oai:eprints.lse.a...|                NULL|Wiley Periodicals|<record><header><...|[http://eprints.l...|[Article, PeerRev...|Bisecting sparse ...|    [QA Mathematics]|2001|\n",
      "|    NULL|[Badger, C. M. A....|          []| 68432|         2009|10.1002/14651858....|https://core.ac.u...|{{0.5555555556}, []}|Antibiotics / ant...|http://eprints.la...|[oai:eprints.lanc...|    NULL|{en, 9, English}|oai:eprints.lancs...|c209d3dbf909fb4dc...|             NULL|<record><header><...|[http://dx.doi.or...|[Journal Article,...|Antibiotics / ant...|[R Medicine (Gene...|2009|\n",
      "+--------+--------------------+------------+------+-------------+--------------------+--------------------+--------------------+--------------------+--------------------+--------------------+--------+----------------+--------------------+--------------------+-----------------+--------------------+--------------------+--------------------+--------------------+--------------------+----+\n",
      "only showing top 2 rows\n",
      "\n"
     ]
    },
    {
     "name": "stderr",
     "output_type": "stream",
     "text": [
      "                                                                                "
     ]
    }
   ],
   "source": [
    "delta_table.toDF().show(2)"
   ]
  },
  {
   "cell_type": "code",
   "execution_count": 7,
   "id": "66cdbe47-069c-4bc5-b1ae-890f623177b2",
   "metadata": {},
   "outputs": [
    {
     "data": {
      "text/plain": [
       "DataFrame[]"
      ]
     },
     "execution_count": 7,
     "metadata": {},
     "output_type": "execute_result"
    }
   ],
   "source": [
    "spark.sql (\"\"\"CREATE TABLE delta_table\n",
    "                USING delta\n",
    "                LOCATION '/home/avyas/projects/project_os/elt_articles//data/delta_table/core_data/'\"\"\")"
   ]
  },
  {
   "cell_type": "code",
   "execution_count": null,
   "id": "61464a13-d1f2-42a7-8d3b-6e55dc3c18eb",
   "metadata": {},
   "outputs": [],
   "source": [
    "# spark.sql(\"DROP TABLE delta_table1\")"
   ]
  },
  {
   "cell_type": "code",
   "execution_count": null,
   "id": "f56beaaf-d6ab-4442-8447-984877f41f04",
   "metadata": {},
   "outputs": [],
   "source": [
    "spark.sql(\"SHOW TABLES\").show()"
   ]
  },
  {
   "cell_type": "code",
   "execution_count": null,
   "id": "49e51e19-5cf1-4d99-9726-e9b6684d04f0",
   "metadata": {},
   "outputs": [],
   "source": [
    "spark.sql(\"SELECT current_database()\").show()"
   ]
  },
  {
   "cell_type": "code",
   "execution_count": null,
   "id": "b6fa9459-55d2-4b5b-bbef-5126a74fdfb6",
   "metadata": {},
   "outputs": [],
   "source": [
    "spark.sql(\"\"\"DESCRIBE delta_table\"\"\").show()"
   ]
  },
  {
   "cell_type": "code",
   "execution_count": null,
   "id": "23a2d17b-3916-4c51-b4b5-600b766f8362",
   "metadata": {},
   "outputs": [],
   "source": [
    "spark.sql(\"\"\"Select COUNT(*) from delta_table \"\"\").show()"
   ]
  },
  {
   "cell_type": "code",
   "execution_count": 8,
   "id": "aa59f75c-0e8c-4fdb-af9f-f60eb49f9107",
   "metadata": {},
   "outputs": [
    {
     "name": "stdout",
     "output_type": "stream",
     "text": [
      "+--------------------+-----+\n",
      "|                 doi|count|\n",
      "+--------------------+-----+\n",
      "|      10.1086/426597|    2|\n",
      "|10.5194/angeo-26-...|    2|\n",
      "|    10.1002/rcm.4528|    2|\n",
      "|10.1103/PhysRevC....|    2|\n",
      "|10.1108/EUM000000...|    2|\n",
      "|        10.1112/blms|    3|\n",
      "|        10.1155/2007|    2|\n",
      "|10.1057/palgrave....|    2|\n",
      "|10.1103/PhysRevE....|    2|\n",
      "|   10.1144/1470-9236|   20|\n",
      "|   10.1063/1.2126117|    2|\n",
      "|10.1093/bioinform...|    3|\n",
      "|   10.1137/050648717|    2|\n",
      "|10.1017/S01433857...|    2|\n",
      "|        10.1093/iclq|   14|\n",
      "|10.1142/S02182025...|    2|\n",
      "|10.1017/S17458552...|    2|\n",
      "|         10.1093/aob|    2|\n",
      "|          10.1093/gh|    3|\n",
      "|      10.1093/indlaw|   13|\n",
      "+--------------------+-----+\n",
      "only showing top 20 rows\n",
      "\n"
     ]
    }
   ],
   "source": [
    "spark.sql(\"\"\"SELECT doi, COUNT(*) as count\n",
    "            FROM delta_table\n",
    "            GROUP BY doi\n",
    "            HAVING COUNT(*) > 1;\n",
    "            \"\"\").show()"
   ]
  },
  {
   "cell_type": "code",
   "execution_count": null,
   "id": "cb9b2763-36ac-4986-93ae-f3e07cd13ca1",
   "metadata": {},
   "outputs": [],
   "source": []
  },
  {
   "cell_type": "code",
   "execution_count": null,
   "id": "a69dd74f-0afa-4901-822b-9890c711d185",
   "metadata": {},
   "outputs": [],
   "source": []
  }
 ],
 "metadata": {
  "kernelspec": {
   "display_name": "Python 3 (ipykernel)",
   "language": "python",
   "name": "python3"
  },
  "language_info": {
   "codemirror_mode": {
    "name": "ipython",
    "version": 3
   },
   "file_extension": ".py",
   "mimetype": "text/x-python",
   "name": "python",
   "nbconvert_exporter": "python",
   "pygments_lexer": "ipython3",
   "version": "3.10.16"
  }
 },
 "nbformat": 4,
 "nbformat_minor": 5
}
