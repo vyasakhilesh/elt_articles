{
 "cells": [
  {
   "cell_type": "code",
   "execution_count": 1,
   "id": "03cf936e-e972-44af-8810-8236c96f3a3c",
   "metadata": {},
   "outputs": [],
   "source": [
    "from pyspark.sql import SparkSession\n",
    "from delta.tables import *\n",
    "from delta import *"
   ]
  },
  {
   "cell_type": "code",
   "execution_count": 2,
   "id": "add1b3de-2716-42f7-b4e7-a0ddb0d70c11",
   "metadata": {},
   "outputs": [
    {
     "name": "stderr",
     "output_type": "stream",
     "text": [
      "25/02/06 15:08:08 WARN Utils: Your hostname, NB-WXET1590 resolves to a loopback address: 127.0.1.1; using 172.30.88.241 instead (on interface eth0)\n",
      "25/02/06 15:08:08 WARN Utils: Set SPARK_LOCAL_IP if you need to bind to another address\n"
     ]
    },
    {
     "name": "stdout",
     "output_type": "stream",
     "text": [
      ":: loading settings :: url = jar:file:/home/avyas/miniconda3/envs/testairbyte/lib/python3.10/site-packages/pyspark/jars/ivy-2.5.1.jar!/org/apache/ivy/core/settings/ivysettings.xml\n"
     ]
    },
    {
     "name": "stderr",
     "output_type": "stream",
     "text": [
      "Ivy Default Cache set to: /home/avyas/.ivy2/cache\n",
      "The jars for the packages stored in: /home/avyas/.ivy2/jars\n",
      "io.delta#delta-spark_2.12 added as a dependency\n",
      ":: resolving dependencies :: org.apache.spark#spark-submit-parent-1d961a6f-a845-49fd-adda-57ccac3beb70;1.0\n",
      "\tconfs: [default]\n",
      "\tfound io.delta#delta-spark_2.12;3.3.0 in central\n",
      "\tfound io.delta#delta-storage;3.3.0 in central\n",
      "\tfound org.antlr#antlr4-runtime;4.9.3 in central\n",
      ":: resolution report :: resolve 316ms :: artifacts dl 13ms\n",
      "\t:: modules in use:\n",
      "\tio.delta#delta-spark_2.12;3.3.0 from central in [default]\n",
      "\tio.delta#delta-storage;3.3.0 from central in [default]\n",
      "\torg.antlr#antlr4-runtime;4.9.3 from central in [default]\n",
      "\t---------------------------------------------------------------------\n",
      "\t|                  |            modules            ||   artifacts   |\n",
      "\t|       conf       | number| search|dwnlded|evicted|| number|dwnlded|\n",
      "\t---------------------------------------------------------------------\n",
      "\t|      default     |   3   |   0   |   0   |   0   ||   3   |   0   |\n",
      "\t---------------------------------------------------------------------\n",
      ":: retrieving :: org.apache.spark#spark-submit-parent-1d961a6f-a845-49fd-adda-57ccac3beb70\n",
      "\tconfs: [default]\n",
      "\t0 artifacts copied, 3 already retrieved (0kB/15ms)\n",
      "25/02/06 15:08:10 WARN NativeCodeLoader: Unable to load native-hadoop library for your platform... using builtin-java classes where applicable\n",
      "Setting default log level to \"WARN\".\n",
      "To adjust logging level use sc.setLogLevel(newLevel). For SparkR, use setLogLevel(newLevel).\n"
     ]
    }
   ],
   "source": [
    " spark = SparkSession.builder \\\n",
    "        .appName(\"ProcessJSONToDelta\") \\\n",
    "        .config(\"spark.jars.packages\", \"io.delta:delta-spark_2.12:3.3.0\") \\\n",
    "        .config(\"spark.sql.extensions\", \"io.delta.sql.DeltaSparkSessionExtension\") \\\n",
    "        .config(\"spark.sql.catalog.spark_catalog\", \"org.apache.spark.sql.delta.catalog.DeltaCatalog\") \\\n",
    "        .getOrCreate()"
   ]
  },
  {
   "cell_type": "code",
   "execution_count": null,
   "id": "d5793893-958e-477c-bd62-460a1ba437c4",
   "metadata": {},
   "outputs": [],
   "source": [
    "data = spark.range(5, 10)\n",
    "data.write.format(\"delta\").mode(\"overwrite\").save(\"/tmp/delta-table\")\n"
   ]
  },
  {
   "cell_type": "code",
   "execution_count": null,
   "id": "b9c888e4-61cb-4e12-b789-a625602ec410",
   "metadata": {},
   "outputs": [],
   "source": [
    "delta_table = DeltaTable.forPath(spark, '/tmp/delta-table')"
   ]
  },
  {
   "cell_type": "code",
   "execution_count": null,
   "id": "432a1e0e-a25a-41c4-9088-86468316fb2c",
   "metadata": {},
   "outputs": [],
   "source": [
    "spark.sql (\"\"\"CREATE TABLE delta_table\n",
    "                USING delta\n",
    "                LOCATION '/tmp/delta-table'\"\"\").show()"
   ]
  },
  {
   "cell_type": "code",
   "execution_count": null,
   "id": "2a957f87-1721-43cf-b972-98fd88d6fa60",
   "metadata": {},
   "outputs": [],
   "source": [
    "spark.sql(\"\"\"Select * from delta_table \"\"\").show()"
   ]
  },
  {
   "cell_type": "code",
   "execution_count": null,
   "id": "8e2c5a1d-9a11-42b7-89be-e137cc3c1bfe",
   "metadata": {},
   "outputs": [],
   "source": [
    "# Upsert (merge) new data\n",
    "new_data = spark.range(0, 25)\n",
    "\n",
    "new_data.createOrReplaceTempView(\"new_data\")\n",
    "\n",
    "print (spark.sql(\"\"\"Select * from new_data \"\"\").show())\n",
    "# Merge new data with Delta table\n",
    "merge_query = \"\"\"\n",
    "    MERGE INTO delta_table\n",
    "    USING new_data\n",
    "    ON delta_table.id = new_data.id\n",
    "    WHEN MATCHED THEN\n",
    "        UPDATE SET *\n",
    "    WHEN NOT MATCHED THEN\n",
    "        INSERT *\n",
    "\"\"\"\n",
    "spark.sql(merge_query)"
   ]
  },
  {
   "cell_type": "code",
   "execution_count": null,
   "id": "4fe5c0a9-5b65-482b-84a6-6a470fd0e0d8",
   "metadata": {},
   "outputs": [],
   "source": [
    "delta_table = DeltaTable.forPath(spark, '/tmp/delta-table')\n",
    "delta_table.toDF().show(30)"
   ]
  },
  {
   "cell_type": "code",
   "execution_count": null,
   "id": "353173c5-3e9f-4afc-923d-b229c0070fb9",
   "metadata": {},
   "outputs": [],
   "source": []
  },
  {
   "cell_type": "code",
   "execution_count": null,
   "id": "ad56f359-01c0-49dc-91f3-4e4a7fd8a30d",
   "metadata": {},
   "outputs": [],
   "source": []
  }
 ],
 "metadata": {
  "kernelspec": {
   "display_name": "Python 3 (ipykernel)",
   "language": "python",
   "name": "python3"
  },
  "language_info": {
   "codemirror_mode": {
    "name": "ipython",
    "version": 3
   },
   "file_extension": ".py",
   "mimetype": "text/x-python",
   "name": "python",
   "nbconvert_exporter": "python",
   "pygments_lexer": "ipython3",
   "version": "3.10.16"
  }
 },
 "nbformat": 4,
 "nbformat_minor": 5
}
