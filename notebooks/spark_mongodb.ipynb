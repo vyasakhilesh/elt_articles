{
 "cells": [
  {
   "cell_type": "code",
   "execution_count": null,
   "id": "acac4971-0c6c-4ef9-b9fc-9967312bf316",
   "metadata": {},
   "outputs": [],
   "source": [
    "data = {\n",
    "            \"name\": \"John Doe\",\n",
    "            \"email\": \"john.doe@example.com\",\n",
    "            \"age\": 30\n",
    "        }\n",
    "        \n",
    "db = client['article_db']\n",
    "collection = db['article_collection']\n",
    "\n",
    "# result = collection.insert_one(data)\n",
    "\n",
    "# Print the ID of the inserted document\n",
    "# print(f\"Data inserted with id {result.inserted_id}\")\n",
    "\n",
    "# Fetch all documents\n",
    "documents = collection.find()\n",
    "\n",
    "for doc in documents:\n",
    "    print(doc)"
   ]
  }
 ],
 "metadata": {
  "kernelspec": {
   "display_name": "Python 3 (ipykernel)",
   "language": "python",
   "name": "python3"
  },
  "language_info": {
   "codemirror_mode": {
    "name": "ipython",
    "version": 3
   },
   "file_extension": ".py",
   "mimetype": "text/x-python",
   "name": "python",
   "nbconvert_exporter": "python",
   "pygments_lexer": "ipython3",
   "version": "3.10.16"
  }
 },
 "nbformat": 4,
 "nbformat_minor": 5
}
